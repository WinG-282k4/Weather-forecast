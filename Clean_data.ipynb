{
 "cells": [
  {
   "cell_type": "markdown",
   "id": "ca780fec",
   "metadata": {},
   "source": [
    "# Clean cho data train và test"
   ]
  },
  {
   "cell_type": "code",
   "execution_count": 109,
   "id": "de4de07e",
   "metadata": {},
   "outputs": [],
   "source": [
    "import pandas as pd\n",
    "import io\n",
    "import re"
   ]
  },
  {
   "cell_type": "code",
   "execution_count": 110,
   "id": "b6687958",
   "metadata": {},
   "outputs": [],
   "source": [
    "def clean_hour(hour_str):\n",
    "    if isinstance(hour_str, str):\n",
    "        match = re.match(r'(\\d{2}:\\d{2})', hour_str)\n",
    "        return match.group(1) if match else hour_str\n",
    "    return hour_str\n",
    "\n",
    "def preprocess(df, visibility_fill_value=None):\n",
    "    # Clean hour\n",
    "    df['hour'] = df['hour'].apply(clean_hour)\n",
    "    \n",
    "    # Parse date\n",
    "    df['date'] = pd.to_datetime(df['date'], errors='coerce')\n",
    "    df['year'] = df['date'].dt.year\n",
    "    df['month'] = df['date'].dt.month\n",
    "    df['day'] = df['date'].dt.day\n",
    "\n",
    "    # Parse hour\n",
    "    df['time'] = pd.to_datetime(df['hour'], format='%H:%M', errors='coerce')\n",
    "    df['hour_value'] = df['time'].dt.hour\n",
    "    df['minute'] = df['time'].dt.minute\n",
    "\n",
    "    # Drop temp columns\n",
    "    df = df.drop(columns=['date', 'hour', 'time'])\n",
    "\n",
    "    # Clean visibility\n",
    "    df['visibility'] = pd.to_numeric(df['visibility'], errors='coerce')\n",
    "\n",
    "    if visibility_fill_value is not None:\n",
    "        df['visibility'] = df['visibility'].fillna(visibility_fill_value)\n",
    "    else:\n",
    "        df['visibility'] = df['visibility'].fillna(method='ffill')\n",
    "        # Nếu muốn: df['visibility'] = df['visibility'].interpolate(method='linear')\n",
    "\n",
    "    return df\n",
    "\n",
    "def simplify_weather(desc):\n",
    "    desc = str(desc).lower()\n",
    "    \n",
    "    if any(keyword in desc for keyword in [\"thunder\", \"storm\", \"lightning\", \"tornado\", \"hurricane\"]):\n",
    "        return \"Stormy\"\n",
    "    \n",
    "    elif any(keyword in desc for keyword in [\"rain\", \"shower\", \"drizzle\", \"sprinkle\"]):\n",
    "        return \"Rainy\"\n",
    "    \n",
    "    elif any(keyword in desc for keyword in [\"fog\", \"haze\", \"mist\", \"smoke\"]):\n",
    "        return \"Foggy\"\n",
    "    \n",
    "    elif any(keyword in desc for keyword in [\"overcast\", \"broken clouds\", \"scattered clouds\", \"mostly cloudy\",\"more clouds than sun\"]):\n",
    "        return \"Cloudy\"\n",
    "    \n",
    "    elif any(keyword in desc for keyword in [\"clear\", \"sunny\", \"hot\", \"warm\", \"mild\", \"passing clouds\",\"partly cloudy\"]):\n",
    "        return \"Clear\"\n",
    "    \n",
    "    else:\n",
    "        return \"Unknown\"\n"
   ]
  },
  {
   "cell_type": "markdown",
   "id": "d7b65ea7",
   "metadata": {},
   "source": [
    "## 1. Clean dữ liệu train"
   ]
  },
  {
   "cell_type": "code",
   "execution_count": 111,
   "id": "a0ddc0f9",
   "metadata": {},
   "outputs": [
    {
     "data": {
      "text/plain": [
       "date               0\n",
       "hour               0\n",
       "temperature        0\n",
       "weather           29\n",
       "wind_speed         4\n",
       "wind_angle         0\n",
       "humidity           1\n",
       "pressure          22\n",
       "visibility     45366\n",
       "dtype: int64"
      ]
     },
     "execution_count": 111,
     "metadata": {},
     "output_type": "execute_result"
    }
   ],
   "source": [
    "# === LOAD & CLEAN TRAIN ===\n",
    "df_train = pd.read_csv(\"Raw_data/raw_data_train.csv\")\n",
    "df_train.isnull().sum()"
   ]
  },
  {
   "cell_type": "code",
   "execution_count": 112,
   "id": "3c9e8843",
   "metadata": {},
   "outputs": [
    {
     "data": {
      "text/plain": [
       "date               0\n",
       "hour               0\n",
       "temperature        0\n",
       "weather            0\n",
       "wind_speed         0\n",
       "wind_angle         0\n",
       "humidity           0\n",
       "pressure           0\n",
       "visibility     45357\n",
       "dtype: int64"
      ]
     },
     "execution_count": 112,
     "metadata": {},
     "output_type": "execute_result"
    }
   ],
   "source": [
    "df_train = df_train.dropna(subset=['weather', 'pressure', 'humidity', 'wind_speed', 'temperature'])\n",
    "df_train.isnull().sum()"
   ]
  },
  {
   "cell_type": "code",
   "execution_count": 113,
   "id": "4b4bc2c9",
   "metadata": {},
   "outputs": [
    {
     "name": "stderr",
     "output_type": "stream",
     "text": [
      "C:\\Users\\nptha\\AppData\\Local\\Temp\\ipykernel_37188\\2670348704.py:31: FutureWarning: Series.fillna with 'method' is deprecated and will raise in a future version. Use obj.ffill() or obj.bfill() instead.\n",
      "  df['visibility'] = df['visibility'].fillna(method='ffill')\n"
     ]
    },
    {
     "data": {
      "text/html": [
       "<div>\n",
       "<style scoped>\n",
       "    .dataframe tbody tr th:only-of-type {\n",
       "        vertical-align: middle;\n",
       "    }\n",
       "\n",
       "    .dataframe tbody tr th {\n",
       "        vertical-align: top;\n",
       "    }\n",
       "\n",
       "    .dataframe thead th {\n",
       "        text-align: right;\n",
       "    }\n",
       "</style>\n",
       "<table border=\"1\" class=\"dataframe\">\n",
       "  <thead>\n",
       "    <tr style=\"text-align: right;\">\n",
       "      <th></th>\n",
       "      <th>year</th>\n",
       "      <th>month</th>\n",
       "      <th>day</th>\n",
       "      <th>hour_value</th>\n",
       "      <th>minute</th>\n",
       "      <th>weather</th>\n",
       "      <th>temperature</th>\n",
       "      <th>wind_speed</th>\n",
       "      <th>wind_angle</th>\n",
       "      <th>humidity</th>\n",
       "      <th>pressure</th>\n",
       "      <th>visibility</th>\n",
       "    </tr>\n",
       "  </thead>\n",
       "  <tbody>\n",
       "    <tr>\n",
       "      <th>0</th>\n",
       "      <td>2019</td>\n",
       "      <td>1</td>\n",
       "      <td>1</td>\n",
       "      <td>0</td>\n",
       "      <td>0</td>\n",
       "      <td>Clear</td>\n",
       "      <td>19.0</td>\n",
       "      <td>6.0</td>\n",
       "      <td>300.0</td>\n",
       "      <td>88.0</td>\n",
       "      <td>1023.0</td>\n",
       "      <td>6.0</td>\n",
       "    </tr>\n",
       "    <tr>\n",
       "      <th>1</th>\n",
       "      <td>2019</td>\n",
       "      <td>1</td>\n",
       "      <td>1</td>\n",
       "      <td>0</td>\n",
       "      <td>30</td>\n",
       "      <td>Clear</td>\n",
       "      <td>19.0</td>\n",
       "      <td>4.0</td>\n",
       "      <td>310.0</td>\n",
       "      <td>88.0</td>\n",
       "      <td>1023.0</td>\n",
       "      <td>6.0</td>\n",
       "    </tr>\n",
       "    <tr>\n",
       "      <th>2</th>\n",
       "      <td>2019</td>\n",
       "      <td>1</td>\n",
       "      <td>1</td>\n",
       "      <td>1</td>\n",
       "      <td>0</td>\n",
       "      <td>Clear</td>\n",
       "      <td>19.0</td>\n",
       "      <td>6.0</td>\n",
       "      <td>300.0</td>\n",
       "      <td>88.0</td>\n",
       "      <td>1022.0</td>\n",
       "      <td>6.0</td>\n",
       "    </tr>\n",
       "    <tr>\n",
       "      <th>3</th>\n",
       "      <td>2019</td>\n",
       "      <td>1</td>\n",
       "      <td>1</td>\n",
       "      <td>1</td>\n",
       "      <td>30</td>\n",
       "      <td>Clear</td>\n",
       "      <td>19.0</td>\n",
       "      <td>6.0</td>\n",
       "      <td>310.0</td>\n",
       "      <td>88.0</td>\n",
       "      <td>1022.0</td>\n",
       "      <td>6.0</td>\n",
       "    </tr>\n",
       "    <tr>\n",
       "      <th>4</th>\n",
       "      <td>2019</td>\n",
       "      <td>1</td>\n",
       "      <td>1</td>\n",
       "      <td>2</td>\n",
       "      <td>0</td>\n",
       "      <td>Clear</td>\n",
       "      <td>19.0</td>\n",
       "      <td>9.0</td>\n",
       "      <td>310.0</td>\n",
       "      <td>88.0</td>\n",
       "      <td>1022.0</td>\n",
       "      <td>6.0</td>\n",
       "    </tr>\n",
       "  </tbody>\n",
       "</table>\n",
       "</div>"
      ],
      "text/plain": [
       "   year  month  day  hour_value  minute weather  temperature  wind_speed  \\\n",
       "0  2019      1    1           0       0   Clear         19.0         6.0   \n",
       "1  2019      1    1           0      30   Clear         19.0         4.0   \n",
       "2  2019      1    1           1       0   Clear         19.0         6.0   \n",
       "3  2019      1    1           1      30   Clear         19.0         6.0   \n",
       "4  2019      1    1           2       0   Clear         19.0         9.0   \n",
       "\n",
       "   wind_angle  humidity  pressure  visibility  \n",
       "0       300.0      88.0    1023.0         6.0  \n",
       "1       310.0      88.0    1023.0         6.0  \n",
       "2       300.0      88.0    1022.0         6.0  \n",
       "3       310.0      88.0    1022.0         6.0  \n",
       "4       310.0      88.0    1022.0         6.0  "
      ]
     },
     "execution_count": 113,
     "metadata": {},
     "output_type": "execute_result"
    }
   ],
   "source": [
    "df_train = preprocess(df_train)\n",
    "\n",
    "# Đơn giản hóa mô tả thời tiết\n",
    "df_train['weather'] = df_train['weather'].apply(simplify_weather)\n",
    "\n",
    "# Ghi lại giá trị visibility fill từ tập train (dùng giá trị gần nhất không null cuối cùng)\n",
    "visibility_fill_value = df_train['visibility'].dropna().iloc[-1]\n",
    "\n",
    "# Lưu dữ liệu đã xử lý\n",
    "df_train = df_train[['year', 'month', 'day', 'hour_value', 'minute', 'weather', 'temperature', \n",
    "                     'wind_speed', 'wind_angle', 'humidity', 'pressure', 'visibility']]\n",
    "df_train.to_csv(\"Clean_data/clean_data_train.csv\", index=False)\n",
    "df_train.head()"
   ]
  },
  {
   "cell_type": "code",
   "execution_count": 114,
   "id": "4b30b8a1",
   "metadata": {},
   "outputs": [
    {
     "data": {
      "text/plain": [
       "weather\n",
       "Cloudy    11932\n",
       "Name: count, dtype: int64"
      ]
     },
     "execution_count": 114,
     "metadata": {},
     "output_type": "execute_result"
    }
   ],
   "source": [
    "\n",
    "# Áp dụng hàm vào dữ liệu và lọc ra các mô tả chưa được phân loại (Unknown)\n",
    "df_train['weather_simplified'] = df_train['weather'].apply(simplify_weather)\n",
    "unknown_weather = df_train[df_train['weather_simplified'] == 'Unknown']['weather'].value_counts()\n",
    "unknown_weather"
   ]
  },
  {
   "cell_type": "markdown",
   "id": "817a325f",
   "metadata": {},
   "source": [
    "## 2. Clean dữ liệu test với tham số đa sử dụng cho train trước đó"
   ]
  },
  {
   "cell_type": "code",
   "execution_count": 115,
   "id": "288013a4",
   "metadata": {},
   "outputs": [
    {
     "data": {
      "text/plain": [
       "date               0\n",
       "hour               0\n",
       "temperature        0\n",
       "weather            0\n",
       "wind_speed         0\n",
       "wind_angle         0\n",
       "humidity           0\n",
       "pressure           1\n",
       "visibility     17099\n",
       "dtype: int64"
      ]
     },
     "execution_count": 115,
     "metadata": {},
     "output_type": "execute_result"
    }
   ],
   "source": [
    "# === LOAD & CLEAN TEST ===\n",
    "df_test = pd.read_csv(\"Raw_data/raw_data_test.csv\")\n",
    "df_test.isnull().sum()"
   ]
  },
  {
   "cell_type": "code",
   "execution_count": 116,
   "id": "89145c7f",
   "metadata": {},
   "outputs": [
    {
     "data": {
      "text/plain": [
       "date               0\n",
       "hour               0\n",
       "temperature        0\n",
       "weather            0\n",
       "wind_speed         0\n",
       "wind_angle         0\n",
       "humidity           0\n",
       "pressure           0\n",
       "visibility     17099\n",
       "dtype: int64"
      ]
     },
     "execution_count": 116,
     "metadata": {},
     "output_type": "execute_result"
    }
   ],
   "source": [
    "df_test = df_test.dropna(subset=['weather', 'pressure', 'humidity', 'wind_speed', 'temperature'])\n",
    "df_test.isnull().sum()"
   ]
  },
  {
   "cell_type": "code",
   "execution_count": 117,
   "id": "722f653d",
   "metadata": {},
   "outputs": [
    {
     "data": {
      "text/html": [
       "<div>\n",
       "<style scoped>\n",
       "    .dataframe tbody tr th:only-of-type {\n",
       "        vertical-align: middle;\n",
       "    }\n",
       "\n",
       "    .dataframe tbody tr th {\n",
       "        vertical-align: top;\n",
       "    }\n",
       "\n",
       "    .dataframe thead th {\n",
       "        text-align: right;\n",
       "    }\n",
       "</style>\n",
       "<table border=\"1\" class=\"dataframe\">\n",
       "  <thead>\n",
       "    <tr style=\"text-align: right;\">\n",
       "      <th></th>\n",
       "      <th>year</th>\n",
       "      <th>month</th>\n",
       "      <th>day</th>\n",
       "      <th>hour_value</th>\n",
       "      <th>minute</th>\n",
       "      <th>weather</th>\n",
       "      <th>temperature</th>\n",
       "      <th>wind_speed</th>\n",
       "      <th>wind_angle</th>\n",
       "      <th>humidity</th>\n",
       "      <th>pressure</th>\n",
       "      <th>visibility</th>\n",
       "    </tr>\n",
       "  </thead>\n",
       "  <tbody>\n",
       "    <tr>\n",
       "      <th>0</th>\n",
       "      <td>2024</td>\n",
       "      <td>1</td>\n",
       "      <td>1</td>\n",
       "      <td>0</td>\n",
       "      <td>0</td>\n",
       "      <td>Foggy</td>\n",
       "      <td>22.0</td>\n",
       "      <td>4.0</td>\n",
       "      <td>320.0</td>\n",
       "      <td>100.0</td>\n",
       "      <td>1017.0</td>\n",
       "      <td>5.0</td>\n",
       "    </tr>\n",
       "    <tr>\n",
       "      <th>1</th>\n",
       "      <td>2024</td>\n",
       "      <td>1</td>\n",
       "      <td>1</td>\n",
       "      <td>0</td>\n",
       "      <td>30</td>\n",
       "      <td>Foggy</td>\n",
       "      <td>23.0</td>\n",
       "      <td>2.0</td>\n",
       "      <td>340.0</td>\n",
       "      <td>94.0</td>\n",
       "      <td>1017.0</td>\n",
       "      <td>5.0</td>\n",
       "    </tr>\n",
       "    <tr>\n",
       "      <th>2</th>\n",
       "      <td>2024</td>\n",
       "      <td>1</td>\n",
       "      <td>1</td>\n",
       "      <td>1</td>\n",
       "      <td>0</td>\n",
       "      <td>Foggy</td>\n",
       "      <td>22.0</td>\n",
       "      <td>2.0</td>\n",
       "      <td>320.0</td>\n",
       "      <td>100.0</td>\n",
       "      <td>1016.0</td>\n",
       "      <td>5.0</td>\n",
       "    </tr>\n",
       "    <tr>\n",
       "      <th>3</th>\n",
       "      <td>2024</td>\n",
       "      <td>1</td>\n",
       "      <td>1</td>\n",
       "      <td>1</td>\n",
       "      <td>30</td>\n",
       "      <td>Foggy</td>\n",
       "      <td>22.0</td>\n",
       "      <td>2.0</td>\n",
       "      <td>0.0</td>\n",
       "      <td>94.0</td>\n",
       "      <td>1016.0</td>\n",
       "      <td>5.0</td>\n",
       "    </tr>\n",
       "    <tr>\n",
       "      <th>4</th>\n",
       "      <td>2024</td>\n",
       "      <td>1</td>\n",
       "      <td>1</td>\n",
       "      <td>2</td>\n",
       "      <td>0</td>\n",
       "      <td>Foggy</td>\n",
       "      <td>22.0</td>\n",
       "      <td>4.0</td>\n",
       "      <td>320.0</td>\n",
       "      <td>100.0</td>\n",
       "      <td>1016.0</td>\n",
       "      <td>5.0</td>\n",
       "    </tr>\n",
       "  </tbody>\n",
       "</table>\n",
       "</div>"
      ],
      "text/plain": [
       "   year  month  day  hour_value  minute weather  temperature  wind_speed  \\\n",
       "0  2024      1    1           0       0   Foggy         22.0         4.0   \n",
       "1  2024      1    1           0      30   Foggy         23.0         2.0   \n",
       "2  2024      1    1           1       0   Foggy         22.0         2.0   \n",
       "3  2024      1    1           1      30   Foggy         22.0         2.0   \n",
       "4  2024      1    1           2       0   Foggy         22.0         4.0   \n",
       "\n",
       "   wind_angle  humidity  pressure  visibility  \n",
       "0       320.0     100.0    1017.0         5.0  \n",
       "1       340.0      94.0    1017.0         5.0  \n",
       "2       320.0     100.0    1016.0         5.0  \n",
       "3         0.0      94.0    1016.0         5.0  \n",
       "4       320.0     100.0    1016.0         5.0  "
      ]
     },
     "execution_count": 117,
     "metadata": {},
     "output_type": "execute_result"
    }
   ],
   "source": [
    "df_test = preprocess(df_test, visibility_fill_value=visibility_fill_value)\n",
    "df_test['weather'] = df_test['weather'].apply(simplify_weather)\n",
    "df_test = df_test[['year', 'month', 'day', 'hour_value', 'minute', 'weather', 'temperature', \n",
    "                   'wind_speed', 'wind_angle', 'humidity', 'pressure', 'visibility']]\n",
    "df_test.head()"
   ]
  },
  {
   "cell_type": "code",
   "execution_count": 118,
   "id": "8b16aa77",
   "metadata": {},
   "outputs": [
    {
     "data": {
      "text/plain": [
       "year           0\n",
       "month          0\n",
       "day            0\n",
       "hour_value     0\n",
       "minute         0\n",
       "weather        0\n",
       "temperature    0\n",
       "wind_speed     0\n",
       "wind_angle     0\n",
       "humidity       0\n",
       "pressure       0\n",
       "visibility     0\n",
       "dtype: int64"
      ]
     },
     "execution_count": 118,
     "metadata": {},
     "output_type": "execute_result"
    }
   ],
   "source": [
    "df_test.isnull().sum()"
   ]
  },
  {
   "cell_type": "code",
   "execution_count": 119,
   "id": "3b31f8c4",
   "metadata": {},
   "outputs": [],
   "source": [
    "df_test.to_csv(\"Clean_data/clean_data_test.csv\", index=False)"
   ]
  },
  {
   "cell_type": "code",
   "execution_count": 90,
   "id": "1128d658",
   "metadata": {},
   "outputs": [
    {
     "name": "stdout",
     "output_type": "stream",
     "text": [
      "✅ Hoàn tất xử lý dữ liệu train và test.\n"
     ]
    }
   ],
   "source": [
    "print(\"✅ Hoàn tất xử lý dữ liệu train và test.\")"
   ]
  }
 ],
 "metadata": {
  "kernelspec": {
   "display_name": "venv",
   "language": "python",
   "name": "python3"
  },
  "language_info": {
   "codemirror_mode": {
    "name": "ipython",
    "version": 3
   },
   "file_extension": ".py",
   "mimetype": "text/x-python",
   "name": "python",
   "nbconvert_exporter": "python",
   "pygments_lexer": "ipython3",
   "version": "3.10.11"
  }
 },
 "nbformat": 4,
 "nbformat_minor": 5
}
